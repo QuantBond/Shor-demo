{
 "cells": [
  {
   "cell_type": "markdown",
   "id": "6da4df38-42a0-426c-9e54-f46b1397ab2c",
   "metadata": {},
   "source": [
    "# Shor's Algorithm utilized to Break a short-key RSA Implementation"
   ]
  },
  {
   "cell_type": "code",
   "execution_count": 1,
   "id": "5d32df6f-88e0-4c45-897f-518cd5ccc4c7",
   "metadata": {},
   "outputs": [],
   "source": [
    "from shor import shor_factorization"
   ]
  },
  {
   "cell_type": "markdown",
   "id": "2b34528a-8c90-4210-972f-b79904c73550",
   "metadata": {},
   "source": [
    "### Shor's Algorithm is essentially a factorization algorithm, which means, for a non-prime number N, we find two numbers $p$ and $q$ such that $ N = p \\times q$"
   ]
  },
  {
   "cell_type": "markdown",
   "id": "d497e2b5-e1be-48e0-85ea-42641465afaf",
   "metadata": {},
   "source": [
    "Here we use Short's Algorithm to decompose the Number 15 into its prime factors, 3 and 5:"
   ]
  },
  {
   "cell_type": "code",
   "execution_count": 2,
   "id": "e6b1361f-331b-47f7-bf78-61be391a2f7e",
   "metadata": {},
   "outputs": [
    {
     "name": "stdout",
     "output_type": "stream",
     "text": [
      "Factoring n = 15\n",
      "n = p*q\n",
      "\n",
      "Result:\n",
      "p = 3\n",
      "q = 5\n"
     ]
    }
   ],
   "source": [
    "\"\"\"Example of factoring via Shor's algorithm (order finding).\"\"\"\n",
    "# Number to factor\n",
    "n = 15\n",
    "\n",
    "# Attempt to find a factor\n",
    "p = shor_factorization(n)\n",
    "q = n // p\n",
    "\n",
    "print(\"Factoring n =\", n)\n",
    "print(\"n = p*q\\n\")\n",
    "print(\"Result:\")\n",
    "print(\"p =\", p)\n",
    "print(\"q =\", q)"
   ]
  },
  {
   "cell_type": "markdown",
   "id": "b2c4d693-48de-42bc-8d68-1841310355ca",
   "metadata": {},
   "source": [
    "### Now using Shor's Algorithm for the RSA"
   ]
  },
  {
   "cell_type": "code",
   "execution_count": 3,
   "id": "13ef1150-a367-463c-8b5b-05c302242970",
   "metadata": {},
   "outputs": [],
   "source": [
    "from simple_rsa import generate_rsa_keypair\n",
    "from simple_rsa import encrypt\n",
    "from simple_rsa import decrypt\n",
    "from simple_rsa import reconstruct_private_key"
   ]
  },
  {
   "cell_type": "markdown",
   "id": "187ce0a6-682e-47c8-abcc-067aeaee73a5",
   "metadata": {},
   "source": [
    "Using a weakened RSA, we generate a Public Key and a Private Key. The Public Key, as the name suggests, is Public available by definition, and as a demonstration, we output the primes related to the keys:"
   ]
  },
  {
   "cell_type": "code",
   "execution_count": 4,
   "id": "4b140498-481e-451a-aa37-d0d440eeacc1",
   "metadata": {},
   "outputs": [],
   "source": [
    "(public_key, private_key), (p, q) = generate_rsa_keypair()"
   ]
  },
  {
   "cell_type": "code",
   "execution_count": 5,
   "id": "7b9fdbea-525f-4eb9-92b3-75a101440848",
   "metadata": {},
   "outputs": [
    {
     "name": "stdout",
     "output_type": "stream",
     "text": [
      "Generated RSA Keypair:\n",
      "\n",
      "Public Key: (7, 143)\n",
      "Private Key: (103, 143)\n",
      "\n",
      "Original primes [SECRET]: p = 11, q = 13\n"
     ]
    }
   ],
   "source": [
    "print(f\"Generated RSA Keypair:\\n\")\n",
    "print(f\"Public Key: {public_key}\")\n",
    "print(f\"Private Key: {private_key}\\n\")\n",
    "print(f\"Original primes [SECRET]: p = {p}, q = {q}\")\n"
   ]
  },
  {
   "cell_type": "markdown",
   "id": "bf6b2ee2-dbaa-4ebc-bd40-9acc49447a4c",
   "metadata": {},
   "source": [
    "### Here we Encrypt, using a Public Key, a secret message, called Plaintext, and she the gibberish output of the Encryption. \n",
    "### Then we use our Private Key to Decrypt the message:"
   ]
  },
  {
   "cell_type": "code",
   "execution_count": 6,
   "id": "172915b6-bbea-4a3e-b2ca-653ae2d55a03",
   "metadata": {},
   "outputs": [
    {
     "name": "stdout",
     "output_type": "stream",
     "text": [
      "\n",
      "Plaintext: Quant.Bond\n",
      "\n",
      "Encrypting...\n",
      "Ciphertext: ECc7IYFUQi0hZA==\n",
      "\n",
      "Decrypting...\n",
      "Decrypted Text: Quant.Bond\n"
     ]
    }
   ],
   "source": [
    "plaintext = 'Quant.Bond'\n",
    "ciphertext = encrypt(public_key, plaintext)\n",
    "print(f\"\\nPlaintext: {plaintext}\")\n",
    "print(\"\\nEncrypting...\")\n",
    "print(f\"Ciphertext: {ciphertext}\")\n",
    "\n",
    "decrypted = decrypt(private_key, ciphertext)\n",
    "print(\"\\nDecrypting...\")\n",
    "print(f\"Decrypted Text: {decrypted}\")"
   ]
  },
  {
   "cell_type": "markdown",
   "id": "e143c8cf-a5c3-4742-9813-235eb200375c",
   "metadata": {},
   "source": [
    "## Breaking the Encrypted Text"
   ]
  },
  {
   "cell_type": "markdown",
   "id": "7bc8e7fb-e454-4cfb-adf4-fd4eb9d8ca0d",
   "metadata": {},
   "source": [
    "### Now with the Encrypted text, let's Break it without the Private Key. Just using Shor's Algorithm!\n",
    "### It will take some time, so be patient:"
   ]
  },
  {
   "cell_type": "code",
   "execution_count": 7,
   "id": "7c9eddcf-293a-47cf-808a-7b60b138f5c7",
   "metadata": {},
   "outputs": [
    {
     "name": "stdout",
     "output_type": "stream",
     "text": [
      "Encryption Broken!\n"
     ]
    }
   ],
   "source": [
    "n = public_key[1]\n",
    "p = shor_factorization(n)\n",
    "print(\"Encryption Broken!\")"
   ]
  },
  {
   "cell_type": "markdown",
   "id": "d371f797-3cdb-4ba5-9ef8-a00cfc922e21",
   "metadata": {},
   "source": [
    "### And now, processing the information:"
   ]
  },
  {
   "cell_type": "code",
   "execution_count": 8,
   "id": "818c95cc-0df3-4433-b396-b7284da6a845",
   "metadata": {},
   "outputs": [
    {
     "name": "stdout",
     "output_type": "stream",
     "text": [
      "Factoring n = pq = 143\n",
      "p = 13\n",
      "q = 11\n"
     ]
    }
   ],
   "source": [
    "q = n // p\n",
    "\n",
    "print(\"Factoring n = pq =\", n)\n",
    "print(\"p =\", p)\n",
    "print(\"q =\", q)"
   ]
  },
  {
   "cell_type": "code",
   "execution_count": 9,
   "id": "7a7d963d-5c42-4147-954f-faa10a05bd4f",
   "metadata": {},
   "outputs": [
    {
     "name": "stdout",
     "output_type": "stream",
     "text": [
      "This is the reconstructed Private Key: (103, 143)\n"
     ]
    }
   ],
   "source": [
    "reconstructed_key = reconstruct_private_key(public_key[0], p, q)\n",
    "print(\"This is the reconstructed Private Key:\", reconstructed_key)"
   ]
  },
  {
   "cell_type": "markdown",
   "id": "cee265dd-f033-42cf-b7ff-35b9ca7aaed5",
   "metadata": {},
   "source": [
    "### Now let's finally break the code with the reconstructed Private Key:"
   ]
  },
  {
   "cell_type": "code",
   "execution_count": 10,
   "id": "1c6203bf-2ccb-48c1-9b74-e6feb682f662",
   "metadata": {},
   "outputs": [
    {
     "name": "stdout",
     "output_type": "stream",
     "text": [
      "\n",
      "Decrypting...\n",
      "Decrypted Text: Quant.Bond\n"
     ]
    }
   ],
   "source": [
    "broken = decrypt(reconstructed_key, ciphertext)\n",
    "print(\"\\nDecrypting...\")\n",
    "print(f\"Decrypted Text: {decrypted}\")"
   ]
  }
 ],
 "metadata": {
  "kernelspec": {
   "display_name": "Python 3 (ipykernel)",
   "language": "python",
   "name": "python3"
  },
  "language_info": {
   "codemirror_mode": {
    "name": "ipython",
    "version": 3
   },
   "file_extension": ".py",
   "mimetype": "text/x-python",
   "name": "python",
   "nbconvert_exporter": "python",
   "pygments_lexer": "ipython3",
   "version": "3.12.4"
  }
 },
 "nbformat": 4,
 "nbformat_minor": 5
}
